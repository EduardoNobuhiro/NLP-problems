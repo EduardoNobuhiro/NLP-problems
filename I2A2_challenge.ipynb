{
  "nbformat": 4,
  "nbformat_minor": 0,
  "metadata": {
    "colab": {
      "name": "I2A2-challenge.ipynb",
      "provenance": [],
      "collapsed_sections": [],
      "mount_file_id": "1z7U25cOj9TAGmeO-MSeotX3LVLbLqxWn",
      "authorship_tag": "ABX9TyMsZuQCsoWz3SUFuWC+25bs",
      "include_colab_link": true
    },
    "kernelspec": {
      "display_name": "Python 3",
      "name": "python3"
    },
    "language_info": {
      "name": "python"
    }
  },
  "cells": [
    {
      "cell_type": "markdown",
      "metadata": {
        "id": "view-in-github",
        "colab_type": "text"
      },
      "source": [
        "<a href=\"https://colab.research.google.com/github/EduardoNobuhiro/NLP-problems/blob/main/I2A2_challenge.ipynb\" target=\"_parent\"><img src=\"https://colab.research.google.com/assets/colab-badge.svg\" alt=\"Open In Colab\"/></a>"
      ]
    },
    {
      "cell_type": "code",
      "metadata": {
        "id": "jkE78XsEHFf-",
        "colab": {
          "base_uri": "https://localhost:8080/",
          "height": 288
        },
        "outputId": "4e14ae97-f03e-4b27-812b-ca01363aba2b"
      },
      "source": [
        "from google.colab import drive\n",
        "drive.mount('/content/drive/MyDrive/Colab_Notebooks') "
      ],
      "execution_count": null,
      "outputs": [
        {
          "output_type": "error",
          "ename": "ValueError",
          "evalue": "ignored",
          "traceback": [
            "\u001b[0;31m---------------------------------------------------------------------------\u001b[0m",
            "\u001b[0;31mValueError\u001b[0m                                Traceback (most recent call last)",
            "\u001b[0;32m<ipython-input-2-837258120029>\u001b[0m in \u001b[0;36m<module>\u001b[0;34m()\u001b[0m\n\u001b[1;32m      1\u001b[0m \u001b[0;32mfrom\u001b[0m \u001b[0mgoogle\u001b[0m\u001b[0;34m.\u001b[0m\u001b[0mcolab\u001b[0m \u001b[0;32mimport\u001b[0m \u001b[0mdrive\u001b[0m\u001b[0;34m\u001b[0m\u001b[0;34m\u001b[0m\u001b[0m\n\u001b[0;32m----> 2\u001b[0;31m \u001b[0mdrive\u001b[0m\u001b[0;34m.\u001b[0m\u001b[0mmount\u001b[0m\u001b[0;34m(\u001b[0m\u001b[0;34m'/content/drive/MyDrive/Colab_Notebooks'\u001b[0m\u001b[0;34m)\u001b[0m\u001b[0;34m\u001b[0m\u001b[0;34m\u001b[0m\u001b[0m\n\u001b[0m",
            "\u001b[0;32m/usr/local/lib/python3.7/dist-packages/google/colab/drive.py\u001b[0m in \u001b[0;36mmount\u001b[0;34m(mountpoint, force_remount, timeout_ms, use_metadata_server)\u001b[0m\n\u001b[1;32m    164\u001b[0m     \u001b[0mnormed\u001b[0m \u001b[0;34m=\u001b[0m \u001b[0m_os\u001b[0m\u001b[0;34m.\u001b[0m\u001b[0mpath\u001b[0m\u001b[0;34m.\u001b[0m\u001b[0mnormpath\u001b[0m\u001b[0;34m(\u001b[0m\u001b[0mmountpoint\u001b[0m\u001b[0;34m)\u001b[0m\u001b[0;34m\u001b[0m\u001b[0;34m\u001b[0m\u001b[0m\n\u001b[1;32m    165\u001b[0m     \u001b[0;32mif\u001b[0m \u001b[0;34m'/'\u001b[0m \u001b[0;32min\u001b[0m \u001b[0mnormed\u001b[0m \u001b[0;32mand\u001b[0m \u001b[0;32mnot\u001b[0m \u001b[0m_os\u001b[0m\u001b[0;34m.\u001b[0m\u001b[0mpath\u001b[0m\u001b[0;34m.\u001b[0m\u001b[0mexists\u001b[0m\u001b[0;34m(\u001b[0m\u001b[0m_os\u001b[0m\u001b[0;34m.\u001b[0m\u001b[0mpath\u001b[0m\u001b[0;34m.\u001b[0m\u001b[0mdirname\u001b[0m\u001b[0;34m(\u001b[0m\u001b[0mnormed\u001b[0m\u001b[0;34m)\u001b[0m\u001b[0;34m)\u001b[0m\u001b[0;34m:\u001b[0m\u001b[0;34m\u001b[0m\u001b[0;34m\u001b[0m\u001b[0m\n\u001b[0;32m--> 166\u001b[0;31m       \u001b[0;32mraise\u001b[0m \u001b[0mValueError\u001b[0m\u001b[0;34m(\u001b[0m\u001b[0;34m'Mountpoint must be in a directory that exists'\u001b[0m\u001b[0;34m)\u001b[0m\u001b[0;34m\u001b[0m\u001b[0;34m\u001b[0m\u001b[0m\n\u001b[0m\u001b[1;32m    167\u001b[0m   \u001b[0;32mexcept\u001b[0m\u001b[0;34m:\u001b[0m\u001b[0;34m\u001b[0m\u001b[0;34m\u001b[0m\u001b[0m\n\u001b[1;32m    168\u001b[0m     \u001b[0md\u001b[0m\u001b[0;34m.\u001b[0m\u001b[0mkill\u001b[0m\u001b[0;34m(\u001b[0m\u001b[0m_signal\u001b[0m\u001b[0;34m.\u001b[0m\u001b[0mSIGKILL\u001b[0m\u001b[0;34m)\u001b[0m\u001b[0;34m\u001b[0m\u001b[0;34m\u001b[0m\u001b[0m\n",
            "\u001b[0;31mValueError\u001b[0m: Mountpoint must be in a directory that exists"
          ]
        }
      ]
    },
    {
      "cell_type": "code",
      "metadata": {
        "id": "aRdYbMFVJAye"
      },
      "source": [
        "import json\n",
        "import os\n",
        "import pandas as pd\n",
        "import numpy as np\n",
        "import string\n",
        "import tensorflow as tf\n",
        "from tensorflow import keras\n",
        "import matplotlib.pyplot as plt\n",
        "import time\n",
        "#A chave da sua api pode ser adquirida em https://www.kaggle.com/eduagarcia/account?isEditing=False\n",
        "kaggle_json = {\"username\":\"eduardoshitara\",\"key\":\"f04f690e79e5059a764e9b04dc110bca\"}\n",
        "\n",
        "if not os.path.exists('/root/.kaggle'):\n",
        "  os.makedirs('/root/.kaggle')\n",
        "with open('/root/.kaggle/kaggle.json', 'w') as f:\n",
        "  json.dump(kaggle_json, f)"
      ],
      "execution_count": null,
      "outputs": []
    },
    {
      "cell_type": "code",
      "metadata": {
        "id": "e8LyLkV6LauB"
      },
      "source": [
        "os.chmod('/root/.kaggle/kaggle.json', 600)"
      ],
      "execution_count": null,
      "outputs": []
    },
    {
      "cell_type": "code",
      "metadata": {
        "colab": {
          "base_uri": "https://localhost:8080/"
        },
        "id": "gGNyFrQCJ4J1",
        "outputId": "6e5c0383-6d46-4214-c9db-e83dd8bddc68"
      },
      "source": [
        "!kaggle competitions download -c i2a2-nlp-2021-text-classification"
      ],
      "execution_count": null,
      "outputs": [
        {
          "output_type": "stream",
          "text": [
            "Warning: Looks like you're using an outdated API Version, please consider updating (server 1.5.12 / client 1.5.4)\n",
            "Downloading sample_submission.csv.zip to /content\n",
            "  0% 0.00/1.55M [00:00<?, ?B/s]\n",
            "100% 1.55M/1.55M [00:00<00:00, 51.6MB/s]\n",
            "Downloading train.csv.zip to /content\n",
            " 99% 706M/716M [00:07<00:00, 72.7MB/s]\n",
            "100% 716M/716M [00:07<00:00, 94.3MB/s]\n",
            "Downloading test.csv.zip to /content\n",
            " 78% 5.00M/6.41M [00:00<00:00, 45.7MB/s]\n",
            "100% 6.41M/6.41M [00:00<00:00, 40.9MB/s]\n"
          ],
          "name": "stdout"
        }
      ]
    },
    {
      "cell_type": "code",
      "metadata": {
        "colab": {
          "base_uri": "https://localhost:8080/"
        },
        "id": "aw_L72UMLqk_",
        "outputId": "3d7fbdae-6eb7-4f20-a194-11bc1ea144cb"
      },
      "source": [
        "!unzip -o train.csv.zip\n",
        "!unzip -o test.csv.zip\n",
        "#!unzip -o sample_submission.csv.zip"
      ],
      "execution_count": null,
      "outputs": [
        {
          "output_type": "stream",
          "text": [
            "Archive:  train.csv.zip\n",
            "  inflating: train.csv               \n",
            "Archive:  test.csv.zip\n",
            "  inflating: test.csv                \n"
          ],
          "name": "stdout"
        }
      ]
    },
    {
      "cell_type": "code",
      "metadata": {
        "colab": {
          "base_uri": "https://localhost:8080/",
          "height": 351
        },
        "id": "nSuXOY3mM3Ox",
        "outputId": "538ecb3f-b5d1-4fe7-e098-d98f188f19cf"
      },
      "source": [
        "train = pd.read_csv('train.csv')\n",
        "test = pd.read_csv('test.csv')\n",
        "train.head(n=10)"
      ],
      "execution_count": null,
      "outputs": [
        {
          "output_type": "execute_result",
          "data": {
            "text/html": [
              "<div>\n",
              "<style scoped>\n",
              "    .dataframe tbody tr th:only-of-type {\n",
              "        vertical-align: middle;\n",
              "    }\n",
              "\n",
              "    .dataframe tbody tr th {\n",
              "        vertical-align: top;\n",
              "    }\n",
              "\n",
              "    .dataframe thead th {\n",
              "        text-align: right;\n",
              "    }\n",
              "</style>\n",
              "<table border=\"1\" class=\"dataframe\">\n",
              "  <thead>\n",
              "    <tr style=\"text-align: right;\">\n",
              "      <th></th>\n",
              "      <th>id</th>\n",
              "      <th>title</th>\n",
              "      <th>label_quality</th>\n",
              "      <th>language</th>\n",
              "      <th>category</th>\n",
              "    </tr>\n",
              "  </thead>\n",
              "  <tbody>\n",
              "    <tr>\n",
              "      <th>0</th>\n",
              "      <td>0</td>\n",
              "      <td>Hidrolavadora Lavor One 120 Bar 1700w  Bomba A...</td>\n",
              "      <td>unreliable</td>\n",
              "      <td>spanish</td>\n",
              "      <td>ELECTRIC_PRESSURE_WASHERS</td>\n",
              "    </tr>\n",
              "    <tr>\n",
              "      <th>1</th>\n",
              "      <td>1</td>\n",
              "      <td>Placa De Sonido - Behringer Umc22</td>\n",
              "      <td>unreliable</td>\n",
              "      <td>spanish</td>\n",
              "      <td>SOUND_CARDS</td>\n",
              "    </tr>\n",
              "    <tr>\n",
              "      <th>2</th>\n",
              "      <td>2</td>\n",
              "      <td>Maquina De Lavar Electrolux 12 Kilos</td>\n",
              "      <td>unreliable</td>\n",
              "      <td>portuguese</td>\n",
              "      <td>WASHING_MACHINES</td>\n",
              "    </tr>\n",
              "    <tr>\n",
              "      <th>3</th>\n",
              "      <td>3</td>\n",
              "      <td>Par Disco De Freio Diant Vent Gol 8v 08/ Frema...</td>\n",
              "      <td>unreliable</td>\n",
              "      <td>portuguese</td>\n",
              "      <td>VEHICLE_BRAKE_DISCS</td>\n",
              "    </tr>\n",
              "    <tr>\n",
              "      <th>4</th>\n",
              "      <td>4</td>\n",
              "      <td>Flashes Led Pestañas Luminoso Falso Pestañas P...</td>\n",
              "      <td>unreliable</td>\n",
              "      <td>spanish</td>\n",
              "      <td>FALSE_EYELASHES</td>\n",
              "    </tr>\n",
              "    <tr>\n",
              "      <th>5</th>\n",
              "      <td>5</td>\n",
              "      <td>4 Microaspersor Irrigação Ultra 7,20 Metros</td>\n",
              "      <td>unreliable</td>\n",
              "      <td>portuguese</td>\n",
              "      <td>IRRIGATION_SPRINKLERS</td>\n",
              "    </tr>\n",
              "    <tr>\n",
              "      <th>6</th>\n",
              "      <td>6</td>\n",
              "      <td>Raquete Clash 100 Tour - Nova</td>\n",
              "      <td>unreliable</td>\n",
              "      <td>portuguese</td>\n",
              "      <td>RACQUETS</td>\n",
              "    </tr>\n",
              "    <tr>\n",
              "      <th>7</th>\n",
              "      <td>7</td>\n",
              "      <td>Kit Tripe Para Celular Ou Câmera Fotog 1,20m +...</td>\n",
              "      <td>unreliable</td>\n",
              "      <td>portuguese</td>\n",
              "      <td>CAMERA_TRIPODS</td>\n",
              "    </tr>\n",
              "    <tr>\n",
              "      <th>8</th>\n",
              "      <td>8</td>\n",
              "      <td>Filtro Ar Bonanza 1984/1990 Sar3589</td>\n",
              "      <td>unreliable</td>\n",
              "      <td>portuguese</td>\n",
              "      <td>AUTOMOTIVE_AIR_FILTERS</td>\n",
              "    </tr>\n",
              "    <tr>\n",
              "      <th>9</th>\n",
              "      <td>9</td>\n",
              "      <td>Gatito Lunchera Neoprene</td>\n",
              "      <td>unreliable</td>\n",
              "      <td>spanish</td>\n",
              "      <td>LUNCHBOXES</td>\n",
              "    </tr>\n",
              "  </tbody>\n",
              "</table>\n",
              "</div>"
            ],
            "text/plain": [
              "   id  ...                   category\n",
              "0   0  ...  ELECTRIC_PRESSURE_WASHERS\n",
              "1   1  ...                SOUND_CARDS\n",
              "2   2  ...           WASHING_MACHINES\n",
              "3   3  ...        VEHICLE_BRAKE_DISCS\n",
              "4   4  ...            FALSE_EYELASHES\n",
              "5   5  ...      IRRIGATION_SPRINKLERS\n",
              "6   6  ...                   RACQUETS\n",
              "7   7  ...             CAMERA_TRIPODS\n",
              "8   8  ...     AUTOMOTIVE_AIR_FILTERS\n",
              "9   9  ...                 LUNCHBOXES\n",
              "\n",
              "[10 rows x 5 columns]"
            ]
          },
          "metadata": {
            "tags": []
          },
          "execution_count": 7
        }
      ]
    },
    {
      "cell_type": "code",
      "metadata": {
        "colab": {
          "base_uri": "https://localhost:8080/"
        },
        "id": "rdMj7TfsNIbV",
        "outputId": "da8329a1-8bb8-4a1b-857d-db45ce53cac3"
      },
      "source": [
        "label_quality_n = train['label_quality'].unique()\n",
        "language_n = train['language'].unique()\n",
        "category_n = train['category'].unique()\n",
        "print(\"label_quality: \", label_quality_n)\n",
        "print(\"languages: \", language_n)\n",
        "print(\"Number of categories: \", category_n)"
      ],
      "execution_count": null,
      "outputs": [
        {
          "output_type": "stream",
          "text": [
            "label_quality:  ['unreliable' 'reliable']\n",
            "languages:  ['spanish' 'portuguese']\n",
            "Number of categories:  ['ELECTRIC_PRESSURE_WASHERS' 'SOUND_CARDS' 'WASHING_MACHINES' ...\n",
            " 'HAMBURGER_FORMERS' 'MANUAL_TROLLEYS' 'COMMERCIAL_POPCORN_MACHINES']\n"
          ],
          "name": "stdout"
        }
      ]
    },
    {
      "cell_type": "code",
      "metadata": {
        "colab": {
          "base_uri": "https://localhost:8080/",
          "height": 312
        },
        "id": "o45FkU6nNK_k",
        "outputId": "373d67de-7954-44e1-b0c0-5a537e409b98"
      },
      "source": [
        "language_freq = train['language'].value_counts()\n",
        "print(language_freq)\n",
        "print('Percentages: ', language_freq.values*100/np.sum(language_freq.values))\n",
        "plt = plt.pie(language_freq.values, labels=language_freq.index)"
      ],
      "execution_count": null,
      "outputs": [
        {
          "output_type": "stream",
          "text": [
            "spanish       9902015\n",
            "portuguese    9861136\n",
            "Name: language, dtype: int64\n",
            "Percentages:  [50.10342227 49.89657773]\n"
          ],
          "name": "stdout"
        },
        {
          "output_type": "display_data",
          "data": {
            "image/png": "[encoded data removed]",
            "text/plain": [
              "<Figure size 432x288 with 1 Axes>"
            ]
          },
          "metadata": {
            "tags": []
          }
        }
      ]
    },
    {
      "cell_type": "code",
      "metadata": {
        "colab": {
          "base_uri": "https://localhost:8080/"
        },
        "id": "ZnAwSKqAVRJB",
        "outputId": "cc647eeb-1209-4489-9b43-24ce7fcda3b7"
      },
      "source": [
        "#text = 'o desafio é tirar x o desenvolvimento caximbo'\n",
        "#text=remove_isolated_letter(text)\n",
        "#print(text)\n",
        "train.shape"
      ],
      "execution_count": null,
      "outputs": [
        {
          "output_type": "execute_result",
          "data": {
            "text/plain": [
              "(19763151, 5)"
            ]
          },
          "metadata": {
            "tags": []
          },
          "execution_count": 29
        }
      ]
    },
    {
      "cell_type": "code",
      "metadata": {
        "colab": {
          "base_uri": "https://localhost:8080/",
          "height": 35
        },
        "id": "H9F1FX2lWovS",
        "outputId": "a731df58-4ccd-4bc1-f9c1-def7c76b3b70"
      },
      "source": [
        "import re\n",
        "import string\n",
        "string.number='x'\n",
        "def remove_URL(text):\n",
        "    url = re.compile(r\"https?://\\S+|www\\.\\S+\")\n",
        "    return url.sub(r\"\", text)\n",
        "\n",
        "# https://stackoverflow.com/questions/34293875/how-to-remove-punctuation-marks-from-a-string-in-python-3-x-using-translate/34294022\n",
        "def remove_punct(text):\n",
        "    '''Make text lowercase, remove text in square brackets, remove punctuation and remove words containing numbers.'''\n",
        "    text = text.lower()\n",
        "    text = re.sub('\\[.*?\\]', '', text)\n",
        "    text = re.sub('[%s]' % re.escape(string.punctuation), '', text)\n",
        "    text = re.sub('\\w*\\d\\w*', '', text)\n",
        "    return text\n",
        "def remove_isolated_letter(text):\n",
        "    text = re.sub(r' x ', ' ', text)\n",
        "    text = re.sub(r' y ', ' ',text)\n",
        "    text = re.sub(r' c ', ' ', text)\n",
        "    text = re.sub(r' p ', ' ', text)\n",
        "    text = re.sub(r'  ', ' ', text)\n",
        "    text = re.sub(r' l ', ' ', text)\n",
        "    return text\n",
        "string.punctuation"
      ],
      "execution_count": null,
      "outputs": [
        {
          "output_type": "execute_result",
          "data": {
            "application/vnd.google.colaboratory.intrinsic+json": {
              "type": "string"
            },
            "text/plain": [
              "'!\"#$%&\\'()*+,-./:;<=>?@[\\\\]^_`{|}~'"
            ]
          },
          "metadata": {
            "tags": []
          },
          "execution_count": 10
        }
      ]
    },
    {
      "cell_type": "code",
      "metadata": {
        "colab": {
          "base_uri": "https://localhost:8080/",
          "height": 408
        },
        "id": "jeeRXfOyWpX5",
        "outputId": "b0963d8a-fa5b-474c-92d4-5a30facc93f4"
      },
      "source": [
        "train[\"title\"] = train.title.map(remove_URL) # map(lambda x: remove_URL(x))\n",
        "train[\"title\"] = train.title.map(remove_punct)\n",
        "train[\"title\"] = train.title.map(remove_isolated_letter)\n",
        "train.head(n=100)"
      ],
      "execution_count": null,
      "outputs": [
        {
          "output_type": "execute_result",
          "data": {
            "text/html": [
              "<div>\n",
              "<style scoped>\n",
              "    .dataframe tbody tr th:only-of-type {\n",
              "        vertical-align: middle;\n",
              "    }\n",
              "\n",
              "    .dataframe tbody tr th {\n",
              "        vertical-align: top;\n",
              "    }\n",
              "\n",
              "    .dataframe thead th {\n",
              "        text-align: right;\n",
              "    }\n",
              "</style>\n",
              "<table border=\"1\" class=\"dataframe\">\n",
              "  <thead>\n",
              "    <tr style=\"text-align: right;\">\n",
              "      <th></th>\n",
              "      <th>id</th>\n",
              "      <th>title</th>\n",
              "      <th>label_quality</th>\n",
              "      <th>language</th>\n",
              "      <th>category</th>\n",
              "    </tr>\n",
              "  </thead>\n",
              "  <tbody>\n",
              "    <tr>\n",
              "      <th>0</th>\n",
              "      <td>0</td>\n",
              "      <td>hidrolavadora lavor one bar  bomba aluminio it...</td>\n",
              "      <td>unreliable</td>\n",
              "      <td>spanish</td>\n",
              "      <td>ELECTRIC_PRESSURE_WASHERS</td>\n",
              "    </tr>\n",
              "    <tr>\n",
              "      <th>1</th>\n",
              "      <td>1</td>\n",
              "      <td>placa de sonido behringer</td>\n",
              "      <td>unreliable</td>\n",
              "      <td>spanish</td>\n",
              "      <td>SOUND_CARDS</td>\n",
              "    </tr>\n",
              "    <tr>\n",
              "      <th>2</th>\n",
              "      <td>2</td>\n",
              "      <td>maquina de lavar electrolux kilos</td>\n",
              "      <td>unreliable</td>\n",
              "      <td>portuguese</td>\n",
              "      <td>WASHING_MACHINES</td>\n",
              "    </tr>\n",
              "    <tr>\n",
              "      <th>3</th>\n",
              "      <td>3</td>\n",
              "      <td>par disco de freio diant vent gol  fremax</td>\n",
              "      <td>unreliable</td>\n",
              "      <td>portuguese</td>\n",
              "      <td>VEHICLE_BRAKE_DISCS</td>\n",
              "    </tr>\n",
              "    <tr>\n",
              "      <th>4</th>\n",
              "      <td>4</td>\n",
              "      <td>flashes led pestañas luminoso falso pestañas p...</td>\n",
              "      <td>unreliable</td>\n",
              "      <td>spanish</td>\n",
              "      <td>FALSE_EYELASHES</td>\n",
              "    </tr>\n",
              "    <tr>\n",
              "      <th>...</th>\n",
              "      <td>...</td>\n",
              "      <td>...</td>\n",
              "      <td>...</td>\n",
              "      <td>...</td>\n",
              "      <td>...</td>\n",
              "    </tr>\n",
              "    <tr>\n",
              "      <th>95</th>\n",
              "      <td>95</td>\n",
              "      <td>griferia baño ducha embutir piazza modelo optima</td>\n",
              "      <td>unreliable</td>\n",
              "      <td>spanish</td>\n",
              "      <td>SHOWER_HEADS</td>\n",
              "    </tr>\n",
              "    <tr>\n",
              "      <th>96</th>\n",
              "      <td>96</td>\n",
              "      <td>sabonete natura homem essence unidades cada</td>\n",
              "      <td>unreliable</td>\n",
              "      <td>portuguese</td>\n",
              "      <td>BAR_SOAPS</td>\n",
              "    </tr>\n",
              "    <tr>\n",
              "      <th>97</th>\n",
              "      <td>97</td>\n",
              "      <td>avent combo outside mixvasch</td>\n",
              "      <td>unreliable</td>\n",
              "      <td>spanish</td>\n",
              "      <td>BABY_STERILIZERS</td>\n",
              "    </tr>\n",
              "    <tr>\n",
              "      <th>98</th>\n",
              "      <td>98</td>\n",
              "      <td>silla eames acrílico rojo ¡oportunidad</td>\n",
              "      <td>unreliable</td>\n",
              "      <td>spanish</td>\n",
              "      <td>DINING_CHAIRS</td>\n",
              "    </tr>\n",
              "    <tr>\n",
              "      <th>99</th>\n",
              "      <td>99</td>\n",
              "      <td>motor elétrico monofásico cavalos pólos baixa ...</td>\n",
              "      <td>unreliable</td>\n",
              "      <td>portuguese</td>\n",
              "      <td>ELECTRICITY_METERS</td>\n",
              "    </tr>\n",
              "  </tbody>\n",
              "</table>\n",
              "<p>100 rows × 5 columns</p>\n",
              "</div>"
            ],
            "text/plain": [
              "    id  ...                   category\n",
              "0    0  ...  ELECTRIC_PRESSURE_WASHERS\n",
              "1    1  ...                SOUND_CARDS\n",
              "2    2  ...           WASHING_MACHINES\n",
              "3    3  ...        VEHICLE_BRAKE_DISCS\n",
              "4    4  ...            FALSE_EYELASHES\n",
              "..  ..  ...                        ...\n",
              "95  95  ...               SHOWER_HEADS\n",
              "96  96  ...                  BAR_SOAPS\n",
              "97  97  ...           BABY_STERILIZERS\n",
              "98  98  ...              DINING_CHAIRS\n",
              "99  99  ...         ELECTRICITY_METERS\n",
              "\n",
              "[100 rows x 5 columns]"
            ]
          },
          "metadata": {
            "tags": []
          },
          "execution_count": 11
        }
      ]
    },
    {
      "cell_type": "code",
      "metadata": {
        "colab": {
          "base_uri": "https://localhost:8080/"
        },
        "id": "0B21RAJIWp0m",
        "outputId": "6e1c65b2-6e37-4e59-aa55-55daa5aaecc5"
      },
      "source": [
        "# remove stopwords\n",
        "!pip install nltk\n",
        "import nltk\n",
        "nltk.download('stopwords')\n",
        "from nltk.corpus import stopwords\n",
        "\n",
        "# Stop Words: A stop word is a commonly used word (such as “the”, “a”, “an”, “in”) that a search engine\n",
        "# has been programmed to ignore, both when indexing entries for searching and when retrieving them \n",
        "# as the result of a search query.\n",
        "stop = set(stopwords.words(\"portuguese\"))\n",
        "stop_es = set(stopwords.words(\"spanish\"))\n",
        "# https://stackoverflow.com/questions/5486337/how-to-remove-stop-words-using-nltk-or-python\n",
        "def remove_stopwords(text):\n",
        "    filtered_words = [word.lower() for word in text.split() if word.lower() not in stop]\n",
        "    return \" \".join(filtered_words)\n",
        "def remove_stopwords_es(text):\n",
        "    filtered_words = [word.lower() for word in text.split() if word.lower() not in stop_es]\n",
        "    return \" \".join(filtered_words)\n"
      ],
      "execution_count": null,
      "outputs": [
        {
          "output_type": "stream",
          "text": [
            "Requirement already satisfied: nltk in /usr/local/lib/python3.7/dist-packages (3.2.5)\n",
            "Requirement already satisfied: six in /usr/local/lib/python3.7/dist-packages (from nltk) (1.15.0)\n",
            "[nltk_data] Downloading package stopwords to /root/nltk_data...\n",
            "[nltk_data]   Unzipping corpora/stopwords.zip.\n"
          ],
          "name": "stdout"
        }
      ]
    },
    {
      "cell_type": "code",
      "metadata": {
        "colab": {
          "base_uri": "https://localhost:8080/",
          "height": 359
        },
        "id": "T0MJPhFBWp3F",
        "outputId": "ca9b0510-e611-449f-d713-5635bb4d9599"
      },
      "source": [
        "train[\"title\"] = train.title.map(remove_stopwords)\n",
        "train[\"title\"] = train.title.map(remove_stopwords_es)\n",
        "train.head(n=10)"
      ],
      "execution_count": null,
      "outputs": [
        {
          "output_type": "execute_result",
          "data": {
            "text/html": [
              "<div>\n",
              "<style scoped>\n",
              "    .dataframe tbody tr th:only-of-type {\n",
              "        vertical-align: middle;\n",
              "    }\n",
              "\n",
              "    .dataframe tbody tr th {\n",
              "        vertical-align: top;\n",
              "    }\n",
              "\n",
              "    .dataframe thead th {\n",
              "        text-align: right;\n",
              "    }\n",
              "</style>\n",
              "<table border=\"1\" class=\"dataframe\">\n",
              "  <thead>\n",
              "    <tr style=\"text-align: right;\">\n",
              "      <th></th>\n",
              "      <th>id</th>\n",
              "      <th>title</th>\n",
              "      <th>label_quality</th>\n",
              "      <th>language</th>\n",
              "      <th>category</th>\n",
              "    </tr>\n",
              "  </thead>\n",
              "  <tbody>\n",
              "    <tr>\n",
              "      <th>0</th>\n",
              "      <td>0</td>\n",
              "      <td>hidrolavadora lavor one bar bomba aluminio italia</td>\n",
              "      <td>unreliable</td>\n",
              "      <td>spanish</td>\n",
              "      <td>ELECTRIC_PRESSURE_WASHERS</td>\n",
              "    </tr>\n",
              "    <tr>\n",
              "      <th>1</th>\n",
              "      <td>1</td>\n",
              "      <td>placa sonido behringer</td>\n",
              "      <td>unreliable</td>\n",
              "      <td>spanish</td>\n",
              "      <td>SOUND_CARDS</td>\n",
              "    </tr>\n",
              "    <tr>\n",
              "      <th>2</th>\n",
              "      <td>2</td>\n",
              "      <td>maquina lavar electrolux kilos</td>\n",
              "      <td>unreliable</td>\n",
              "      <td>portuguese</td>\n",
              "      <td>WASHING_MACHINES</td>\n",
              "    </tr>\n",
              "    <tr>\n",
              "      <th>3</th>\n",
              "      <td>3</td>\n",
              "      <td>par disco freio diant vent gol fremax</td>\n",
              "      <td>unreliable</td>\n",
              "      <td>portuguese</td>\n",
              "      <td>VEHICLE_BRAKE_DISCS</td>\n",
              "    </tr>\n",
              "    <tr>\n",
              "      <th>4</th>\n",
              "      <td>4</td>\n",
              "      <td>flashes led pestañas luminoso falso pestañas p...</td>\n",
              "      <td>unreliable</td>\n",
              "      <td>spanish</td>\n",
              "      <td>FALSE_EYELASHES</td>\n",
              "    </tr>\n",
              "    <tr>\n",
              "      <th>5</th>\n",
              "      <td>5</td>\n",
              "      <td>microaspersor irrigação ultra metros</td>\n",
              "      <td>unreliable</td>\n",
              "      <td>portuguese</td>\n",
              "      <td>IRRIGATION_SPRINKLERS</td>\n",
              "    </tr>\n",
              "    <tr>\n",
              "      <th>6</th>\n",
              "      <td>6</td>\n",
              "      <td>raquete clash tour nova</td>\n",
              "      <td>unreliable</td>\n",
              "      <td>portuguese</td>\n",
              "      <td>RACQUETS</td>\n",
              "    </tr>\n",
              "    <tr>\n",
              "      <th>7</th>\n",
              "      <td>7</td>\n",
              "      <td>kit tripe celular câmera fotog brinde nfe</td>\n",
              "      <td>unreliable</td>\n",
              "      <td>portuguese</td>\n",
              "      <td>CAMERA_TRIPODS</td>\n",
              "    </tr>\n",
              "    <tr>\n",
              "      <th>8</th>\n",
              "      <td>8</td>\n",
              "      <td>filtro ar bonanza</td>\n",
              "      <td>unreliable</td>\n",
              "      <td>portuguese</td>\n",
              "      <td>AUTOMOTIVE_AIR_FILTERS</td>\n",
              "    </tr>\n",
              "    <tr>\n",
              "      <th>9</th>\n",
              "      <td>9</td>\n",
              "      <td>gatito lunchera neoprene</td>\n",
              "      <td>unreliable</td>\n",
              "      <td>spanish</td>\n",
              "      <td>LUNCHBOXES</td>\n",
              "    </tr>\n",
              "  </tbody>\n",
              "</table>\n",
              "</div>"
            ],
            "text/plain": [
              "   id  ...                   category\n",
              "0   0  ...  ELECTRIC_PRESSURE_WASHERS\n",
              "1   1  ...                SOUND_CARDS\n",
              "2   2  ...           WASHING_MACHINES\n",
              "3   3  ...        VEHICLE_BRAKE_DISCS\n",
              "4   4  ...            FALSE_EYELASHES\n",
              "5   5  ...      IRRIGATION_SPRINKLERS\n",
              "6   6  ...                   RACQUETS\n",
              "7   7  ...             CAMERA_TRIPODS\n",
              "8   8  ...     AUTOMOTIVE_AIR_FILTERS\n",
              "9   9  ...                 LUNCHBOXES\n",
              "\n",
              "[10 rows x 5 columns]"
            ]
          },
          "metadata": {
            "tags": []
          },
          "execution_count": 13
        }
      ]
    },
    {
      "cell_type": "code",
      "metadata": {
        "colab": {
          "base_uri": "https://localhost:8080/"
        },
        "id": "ygsoxDAbNsTf",
        "outputId": "7dfdebc3-1af3-488d-c786-6d4bfadaf1ef"
      },
      "source": [
        "train_pt = train[train['language'] == 'portuguese'].copy()\n",
        "train_es = train[train['language'] == 'spanish'].copy()\n",
        "test_pt = test[train['language'] == 'portuguese'].copy()\n",
        "test_es = test[train['language'] == 'portuguese'].copy()"
      ],
      "execution_count": null,
      "outputs": [
        {
          "output_type": "stream",
          "text": [
            "/usr/local/lib/python3.7/dist-packages/ipykernel_launcher.py:3: UserWarning: Boolean Series key will be reindexed to match DataFrame index.\n",
            "  This is separate from the ipykernel package so we can avoid doing imports until\n",
            "/usr/local/lib/python3.7/dist-packages/ipykernel_launcher.py:4: UserWarning: Boolean Series key will be reindexed to match DataFrame index.\n",
            "  after removing the cwd from sys.path.\n"
          ],
          "name": "stderr"
        }
      ]
    },
    {
      "cell_type": "code",
      "metadata": {
        "colab": {
          "base_uri": "https://localhost:8080/"
        },
        "id": "JeKbxAjoteak",
        "outputId": "1010110e-5736-45e9-d328-d6eb7aacf300"
      },
      "source": [
        "train_size = int(train_pt.shape[0] * 0.8)\n",
        "\n",
        "train_df_pt = train_pt[:train_size]\n",
        "val_df_pt = train_pt[train_size:]\n",
        "\n",
        "# split text and labels\n",
        "train_sentences_pt = train_df_pt.title.to_numpy()\n",
        "train_labels_pt = train_df_pt.category.to_numpy()\n",
        "val_sentences_pt = val_df_pt.title.to_numpy()\n",
        "val_labels_pt = val_df_pt.category.to_numpy()\n",
        "train_sentences_pt.shape, train_labels_pt.shape, val_sentences_pt.shape, val_labels_pt.shape"
      ],
      "execution_count": null,
      "outputs": [
        {
          "output_type": "execute_result",
          "data": {
            "text/plain": [
              "((7888908,), (7888908,), (1972228,), (1972228,))"
            ]
          },
          "metadata": {
            "tags": []
          },
          "execution_count": 13
        }
      ]
    },
    {
      "cell_type": "code",
      "metadata": {
        "id": "gfxRnkTaAdnY"
      },
      "source": [
        "train_size = int(train_es.shape[0] * 0.8)\n",
        "\n",
        "train_df_es = train_es[:train_size]\n",
        "val_df_es = train_es[train_size:]\n",
        "\n",
        "# split text and labels\n",
        "train_sentences_es = train_df_es.title.to_numpy()\n",
        "train_labels_es = train_df_es.category.to_numpy()\n",
        "val_sentences_es = val_df_es.title.to_numpy()\n",
        "val_labels_es = val_df_es.category.to_numpy()"
      ],
      "execution_count": null,
      "outputs": []
    },
    {
      "cell_type": "code",
      "metadata": {
        "id": "rrslbwaUzQfg"
      },
      "source": [
        "from tensorflow.keras.preprocessing.text import Tokenizer\n",
        "\n",
        "# vectorize a text corpus by turning each text into a sequence of integers\n",
        "tokenizer_pt = Tokenizer()\n",
        "tokenizer_pt.fit_on_texts(train_sentences_pt) # fit only to training\n",
        "tokenizer_es = Tokenizer()\n",
        "tokenizer_es.fit_on_texts(train_sentences_es) # fit only to training"
      ],
      "execution_count": null,
      "outputs": []
    },
    {
      "cell_type": "code",
      "metadata": {
        "id": "7qheYizY5hvq",
        "colab": {
          "base_uri": "https://localhost:8080/",
          "height": 191
        },
        "outputId": "c04476e2-9ab5-418f-cb68-601e1e34a990"
      },
      "source": [
        "# each word has unique index\n",
        "word_index = tokenizer.word_index\n",
        "len(word_index)"
      ],
      "execution_count": null,
      "outputs": [
        {
          "output_type": "error",
          "ename": "NameError",
          "evalue": "ignored",
          "traceback": [
            "\u001b[0;31m---------------------------------------------------------------------------\u001b[0m",
            "\u001b[0;31mNameError\u001b[0m                                 Traceback (most recent call last)",
            "\u001b[0;32m<ipython-input-16-9c105413fb5e>\u001b[0m in \u001b[0;36m<module>\u001b[0;34m()\u001b[0m\n\u001b[1;32m      1\u001b[0m \u001b[0;31m# each word has unique index\u001b[0m\u001b[0;34m\u001b[0m\u001b[0;34m\u001b[0m\u001b[0;34m\u001b[0m\u001b[0m\n\u001b[0;32m----> 2\u001b[0;31m \u001b[0mword_index\u001b[0m \u001b[0;34m=\u001b[0m \u001b[0mtokenizer\u001b[0m\u001b[0;34m.\u001b[0m\u001b[0mword_index\u001b[0m\u001b[0;34m\u001b[0m\u001b[0;34m\u001b[0m\u001b[0m\n\u001b[0m\u001b[1;32m      3\u001b[0m \u001b[0mlen\u001b[0m\u001b[0;34m(\u001b[0m\u001b[0mword_index\u001b[0m\u001b[0;34m)\u001b[0m\u001b[0;34m\u001b[0m\u001b[0;34m\u001b[0m\u001b[0m\n",
            "\u001b[0;31mNameError\u001b[0m: name 'tokenizer' is not defined"
          ]
        }
      ]
    },
    {
      "cell_type": "code",
      "metadata": {
        "colab": {
          "base_uri": "https://localhost:8080/"
        },
        "id": "MhyGU8SR5iIo",
        "outputId": "6fd8ee7d-f068-4af8-cd95-ecbe86b74168"
      },
      "source": [
        "#num_unique_words=len(tokenizer_I2A2_chal.word_index)1024555\n",
        "num_unique_words_pt=len(tokenizer_pt.word_index)\n",
        "num_unique_words_es=len(tokenizer_es.word_index)\n",
        "num_unique_words_pt, num_unique_words_es"
      ],
      "execution_count": null,
      "outputs": [
        {
          "output_type": "execute_result",
          "data": {
            "text/plain": [
              "(506391, 656302)"
            ]
          },
          "metadata": {
            "tags": []
          },
          "execution_count": 16
        }
      ]
    },
    {
      "cell_type": "code",
      "metadata": {
        "id": "R040tE3xByk5"
      },
      "source": [
        "train_sequences_pt= tokenizer_pt.texts_to_sequences(train_sentences_pt)\n",
        "val_sequences_pt= tokenizer_pt.texts_to_sequences(val_sentences_pt)\n",
        "train_sequences_es= tokenizer_es.texts_to_sequences(train_sentences_es)\n",
        "val_sequences_es= tokenizer_es.texts_to_sequences(val_sentences_es)"
      ],
      "execution_count": null,
      "outputs": []
    },
    {
      "cell_type": "code",
      "metadata": {
        "id": "rWbJfGdfUb8b"
      },
      "source": [
        "# Pad the sequences to have the same length\n",
        "from tensorflow.keras.preprocessing.sequence import pad_sequences\n",
        "\n",
        "# Max number of words in a sequence\n",
        "max_length = 15\n",
        "\n",
        "train_padded_pt = pad_sequences(train_sequences_pt, maxlen=max_length, padding=\"post\", truncating=\"post\")\n",
        "val_padded_pt = pad_sequences(val_sequences_pt, maxlen=max_length, padding=\"post\", truncating=\"post\")"
      ],
      "execution_count": null,
      "outputs": []
    },
    {
      "cell_type": "code",
      "metadata": {
        "colab": {
          "base_uri": "https://localhost:8080/"
        },
        "id": "wNN3DE1CLlMH",
        "outputId": "be0db0f7-9e7c-4a4c-82e0-fc1755bcad91"
      },
      "source": [
        "train_padded_es = pad_sequences(train_sequences_es, maxlen=max_length, padding=\"post\", truncating=\"post\")\n",
        "val_padded_es = pad_sequences(val_sequences_es, maxlen=max_length, padding=\"post\", truncating=\"post\")\n",
        "train_padded_es.shape, val_padded_es.shape"
      ],
      "execution_count": null,
      "outputs": [
        {
          "output_type": "execute_result",
          "data": {
            "text/plain": [
              "((7921612, 15), (1980403, 15))"
            ]
          },
          "metadata": {
            "tags": []
          },
          "execution_count": 19
        }
      ]
    },
    {
      "cell_type": "code",
      "metadata": {
        "colab": {
          "base_uri": "https://localhost:8080/"
        },
        "id": "c_Km6B52XC4M",
        "outputId": "3bdd0b83-bdd3-4cda-e6d0-85022fc937a0"
      },
      "source": [
        "print(train_sentences_pt[115])\n",
        "print(train_sequences_pt[115])\n",
        "print(train_padded_pt[115])"
      ],
      "execution_count": null,
      "outputs": [
        {
          "output_type": "stream",
          "text": [
            "sal rosa do himalaia grosso kg promoção \n",
            "[1453, 44, 10, 2869, 1542, 105, 33]\n",
            "[1453   44   10 2869 1542  105   33    0    0    0    0    0    0    0\n",
            "    0]\n"
          ],
          "name": "stdout"
        }
      ]
    },
    {
      "cell_type": "code",
      "metadata": {
        "id": "u7L9CZviX6Ja",
        "colab": {
          "base_uri": "https://localhost:8080/"
        },
        "outputId": "7e66d282-e734-4667-a540-1ecf776e8762"
      },
      "source": [
        "from sklearn.feature_extraction.text import CountVectorizer\n",
        "cv_challengeI2A2= CountVectorizer(lowercase=False)\n",
        "cv_challengeI2A2.fit(train['category'])"
      ],
      "execution_count": null,
      "outputs": [
        {
          "output_type": "execute_result",
          "data": {
            "text/plain": [
              "CountVectorizer(analyzer='word', binary=False, decode_error='strict',\n",
              "                dtype=<class 'numpy.int64'>, encoding='utf-8', input='content',\n",
              "                lowercase=False, max_df=1.0, max_features=None, min_df=1,\n",
              "                ngram_range=(1, 1), preprocessor=None, stop_words=None,\n",
              "                strip_accents=None, token_pattern='(?u)\\\\b\\\\w\\\\w+\\\\b',\n",
              "                tokenizer=None, vocabulary=None)"
            ]
          },
          "metadata": {
            "tags": []
          },
          "execution_count": 21
        }
      ]
    },
    {
      "cell_type": "code",
      "metadata": {
        "id": "ibY4ykZBnuHC"
      },
      "source": [
        "train_labels_es=cv_challengeI2A2.transform(train_labels_es)\n",
        "val_labels_es=cv_challengeI2A2.transform(val_labels_es)\n",
        "train_labels_pt=cv_challengeI2A2.transform(train_labels_pt)\n",
        "val_labels_pt=cv_challengeI2A2.transform(val_labels_pt)"
      ],
      "execution_count": null,
      "outputs": []
    },
    {
      "cell_type": "code",
      "metadata": {
        "id": "5CkdfL0KbTOh",
        "colab": {
          "base_uri": "https://localhost:8080/"
        },
        "outputId": "e1d48c10-5c53-4eac-f41f-c0d2719d4066"
      },
      "source": [
        "from sklearn.externals import joblib\n",
        "from google.colab import files\n",
        "\n",
        "#you can save variable into file on colab files\n",
        "joblib.dump(num_unique_words_pt,  'num_unique_words_pt.pkl')\n",
        "joblib.dump(num_unique_words_es,  'num_unique_words_es.pkl')\n",
        "joblib.dump(train_padded_pt,  'train_padded_pt.pkl')\n",
        "joblib.dump(val_padded_pt,  'val_padded_pt.pkl') \n",
        "joblib.dump(train_padded_es,  'train_padded_es.pkl')\n",
        "joblib.dump(val_padded_es,  'val_padded_es.pkl') \n",
        "joblib.dump(tokenizer_pt, 'tokenizer_I2A2_chal_pt.pkl')\n",
        "joblib.dump(tokenizer_es, 'tokenizer_I2A2_chal_es.pkl')\n",
        "joblib.dump(train_labels_es, 'train_labels_es.pkl')\n",
        "joblib.dump(val_labels_es, 'val_labels_es.pkl')\n",
        "joblib.dump(train_labels_pt, 'train_labels_pt.pkl')\n",
        "joblib.dump(val_labels_pt, 'val_labels_pt.pkl')\n",
        "joblib.dump(cv_challengeI2A2,  'cv_challengeI2A2.pkl')\n",
        "\n",
        "#this will download file to your local downloads\n",
        "\n",
        "#files.download('var.pkl')      \n",
        "\n",
        "#reload your saved data.\n",
        "#tokenizer_I2A2_chal=joblib.load('tokenizer_I2A2_chal.pkl')\n",
        "#train_padded = joblib.load('val_padded.pkl')\n",
        "#val_padded = joblib.load('val_padded.pkl') \n",
        "#train_labels=joblib.load('train_labels.pkl')\n",
        "#val_labels=joblib.load('val_labels.pkl')"
      ],
      "execution_count": null,
      "outputs": [
        {
          "output_type": "execute_result",
          "data": {
            "text/plain": [
              "['cv_challengeI2A2.pkl']"
            ]
          },
          "metadata": {
            "tags": []
          },
          "execution_count": 23
        }
      ]
    },
    {
      "cell_type": "code",
      "metadata": {
        "id": "-fcFOBNYk4cN"
      },
      "source": [
        "from sklearn.externals import joblib\n",
        "from google.colab import files\n",
        "#reload your saved data.\n",
        "#train_padded_pt=joblib.load('train_padded_pt.pkl')\n",
        "#val_padded_pt=joblib.load('val_padded_pt.pkl') \n",
        "train_padded_es=joblib.load('train_padded_es.pkl')\n",
        "val_padded_es=joblib.load('val_padded_es.pkl') \n",
        "#tokenizer_pt=joblib.load('tokenizer_I2A2_chal_pt.pkl')#\n",
        "#tokenizer_es=joblib.load(tokenizer_es, 'tokenizer_I2A2_chal_pt.pkl')\n",
        "#train_labels_pt=joblib.load('train_labels_pt.pkl')\n",
        "#val_labels_pt=joblib.load('val_labels_pt.pkl')\n",
        "train_labels_es=joblib.load('train_labels_es.pkl')\n",
        "val_labels_es=joblib.load('val_labels_es.pkl')\n",
        "#cv_challengeI2A2=joblib.load('cv_challengeI2A2.pkl')\n",
        "#num_unique_words_pt=joblib.load('num_unique_words_pt.pkl')\n",
        "num_unique_words_es=joblib.load('num_unique_words_es.pkl')"
      ],
      "execution_count": null,
      "outputs": []
    },
    {
      "cell_type": "code",
      "metadata": {
        "id": "9RdiwdAZXd9A"
      },
      "source": [
        "#decoded_text = decode(train_sequences[10])\n",
        "import numpy as np\n",
        "#print(train_sequences[10])\n",
        "#print(decoded_text)\n",
        "max_length=15\n",
        "output_model=1588"
      ],
      "execution_count": null,
      "outputs": []
    },
    {
      "cell_type": "code",
      "metadata": {
        "colab": {
          "base_uri": "https://localhost:8080/"
        },
        "id": "zQYXYLpdIagg",
        "outputId": "9ed4e555-327a-438a-d49b-3da7f4c4f6b7"
      },
      "source": [
        "# Create LSTM model\n",
        "import tensorflow as tf\n",
        "from tensorflow import keras\n",
        "from tensorflow.keras import layers\n",
        "\n",
        "# Embedding: https://www.tensorflow.org/tutorials/text/word_embeddings\n",
        "# Turns positive integers (indexes) into dense vectors of fixed size. (other approach could be one-hot-encoding)\n",
        "\n",
        "# Word embeddings give us a way to use an efficient, dense representation in which similar words have \n",
        "# a similar encoding. Importantly, you do not have to specify this encoding by hand. An embedding is a \n",
        "# dense vector of floating point values (the length of the vector is a parameter you specify).\n",
        "\n",
        "model_es = tf.keras.Sequential([\n",
        "tf.keras.layers.Embedding(num_unique_words_es,100, input_length=max_length),\n",
        "#model.add(keras.Input(shape=train_padded_pt.shape)) # seq_length, input_size\n",
        "#model.add(layers.SimpleRNN(15,activation='relu'))\n",
        "#tf.keras.layers.GlobalAveragePooling1D(),\n",
        "tf.keras.layers.LSTM(100, activation='relu'),\n",
        "tf.keras.layers.Dense(output_model,activation='softmax')\n",
        "])\n",
        "model_es.summary()"
      ],
      "execution_count": null,
      "outputs": [
        {
          "output_type": "stream",
          "text": [
            "Model: \"sequential\"\n",
            "_________________________________________________________________\n",
            "Layer (type)                 Output Shape              Param #   \n",
            "=================================================================\n",
            "embedding (Embedding)        (None, 15, 100)           65630200  \n",
            "_________________________________________________________________\n",
            "lstm (LSTM)                  (None, 100)               80400     \n",
            "_________________________________________________________________\n",
            "dense (Dense)                (None, 1588)              160388    \n",
            "=================================================================\n",
            "Total params: 65,870,988\n",
            "Trainable params: 65,870,988\n",
            "Non-trainable params: 0\n",
            "_________________________________________________________________\n"
          ],
          "name": "stdout"
        }
      ]
    },
    {
      "cell_type": "code",
      "metadata": {
        "id": "d80kJy3mkPcL"
      },
      "source": [
        "loss = keras.losses.CategoricalCrossentropy(name='categorical_crossentropy')\n",
        "metrics = [\"accuracy\"]\n",
        "opt=('Adam')\n",
        "\n",
        "model_es.compile(loss=loss,optimizer=opt, metrics=metrics)"
      ],
      "execution_count": null,
      "outputs": []
    },
    {
      "cell_type": "code",
      "metadata": {
        "colab": {
          "base_uri": "https://localhost:8080/"
        },
        "id": "88a1nrV1WZGw",
        "outputId": "2cacd22d-175b-4931-a375-cd5d68607255"
      },
      "source": [
        "model_es.load_weights('/content/drive/MyDrive/Colab_Notebooks/Models/Model_es')"
      ],
      "execution_count": null,
      "outputs": [
        {
          "output_type": "execute_result",
          "data": {
            "text/plain": [
              "<tensorflow.python.training.tracking.util.CheckpointLoadStatus at 0x7f1b75984cd0>"
            ]
          },
          "metadata": {
            "tags": []
          },
          "execution_count": 6
        }
      ]
    },
    {
      "cell_type": "code",
      "metadata": {
        "colab": {
          "base_uri": "https://localhost:8080/"
        },
        "id": "9w4JuNBfkP5I",
        "outputId": "9cf51183-cc70-43e0-fd80-94e8fff36265"
      },
      "source": [
        "count = 0\n",
        "while count < 5:\n",
        "  train_padded_es_1=train_padded_es[6000000+count*200000:6200000+count*200000]\n",
        "  train_labels_es_1=train_labels_es[6000000+count*200000:6200000+count*200000]\n",
        "  model_es.fit(train_padded_es_1,train_labels_es_1.toarray(),batch_size=100, epochs=2)\n",
        "  print(6200000+count*200000)\n",
        "  model_es.save_weights('/content/drive/MyDrive/Colab_Notebooks/Models/Model_es')\n",
        "  count += 1\n"
      ],
      "execution_count": null,
      "outputs": [
        {
          "output_type": "stream",
          "text": [
            "Epoch 1/2\n",
            "2000/2000 [==============================] - 1288s 642ms/step - loss: 0.6882 - accuracy: 0.8581\n",
            "Epoch 2/2\n",
            "2000/2000 [==============================] - 1292s 646ms/step - loss: 0.4235 - accuracy: 0.9045\n",
            "6200000\n",
            "Epoch 1/2\n",
            "2000/2000 [==============================] - 1337s 668ms/step - loss: 0.6867 - accuracy: 0.8576\n",
            "Epoch 2/2\n",
            "2000/2000 [==============================] - 1327s 663ms/step - loss: 0.4239 - accuracy: 0.9040\n",
            "6400000\n",
            "Epoch 1/2\n",
            "2000/2000 [==============================] - 1329s 665ms/step - loss: 0.6896 - accuracy: 0.8566\n",
            "Epoch 2/2\n",
            "2000/2000 [==============================] - 1322s 661ms/step - loss: 0.4263 - accuracy: 0.9025\n",
            "6600000\n",
            "Epoch 1/2\n"
          ],
          "name": "stdout"
        }
      ]
    },
    {
      "cell_type": "code",
      "metadata": {
        "colab": {
          "base_uri": "https://localhost:8080/",
          "height": 223
        },
        "id": "WR5UmlftXmXV",
        "outputId": "4e3a875d-ae45-46e7-b44b-9e7ccff9b56e"
      },
      "source": [
        "# Create LSTM model\n",
        "import tensorflow as tf\n",
        "from tensorflow import keras\n",
        "from tensorflow.keras import layers\n",
        "\n",
        "# Embedding: https://www.tensorflow.org/tutorials/text/word_embeddings\n",
        "# Turns positive integers (indexes) into dense vectors of fixed size. (other approach could be one-hot-encoding)\n",
        "\n",
        "# Word embeddings give us a way to use an efficient, dense representation in which similar words have \n",
        "# a similar encoding. Importantly, you do not have to specify this encoding by hand. An embedding is a \n",
        "# dense vector of floating point values (the length of the vector is a parameter you specify).\n",
        "\n",
        "model_pt = tf.keras.Sequential([\n",
        "tf.keras.layers.Embedding(num_unique_words_pt,50, input_length=max_length),\n",
        "#model.add(keras.Input(shape=train_padded_pt.shape)) # seq_length, input_size\n",
        "#model.add(layers.SimpleRNN(15,activation='relu'))\n",
        "#tf.keras.layers.GlobalAveragePooling1D(),\n",
        "tf.keras.layers.LSTM(100, activation='relu'),\n",
        "tf.keras.layers.Dense(output_model,activation='softmax')\n",
        "])\n",
        "model.summary()"
      ],
      "execution_count": null,
      "outputs": [
        {
          "output_type": "error",
          "ename": "NameError",
          "evalue": "ignored",
          "traceback": [
            "\u001b[0;31m---------------------------------------------------------------------------\u001b[0m",
            "\u001b[0;31mNameError\u001b[0m                                 Traceback (most recent call last)",
            "\u001b[0;32m<ipython-input-4-e36ff2638cf2>\u001b[0m in \u001b[0;36m<module>\u001b[0;34m()\u001b[0m\n\u001b[1;32m     12\u001b[0m \u001b[0;34m\u001b[0m\u001b[0m\n\u001b[1;32m     13\u001b[0m model_pt = tf.keras.Sequential([\n\u001b[0;32m---> 14\u001b[0;31m \u001b[0mtf\u001b[0m\u001b[0;34m.\u001b[0m\u001b[0mkeras\u001b[0m\u001b[0;34m.\u001b[0m\u001b[0mlayers\u001b[0m\u001b[0;34m.\u001b[0m\u001b[0mEmbedding\u001b[0m\u001b[0;34m(\u001b[0m\u001b[0mnum_unique_words_pt\u001b[0m\u001b[0;34m,\u001b[0m\u001b[0;36m50\u001b[0m\u001b[0;34m,\u001b[0m \u001b[0minput_length\u001b[0m\u001b[0;34m=\u001b[0m\u001b[0mmax_length\u001b[0m\u001b[0;34m)\u001b[0m\u001b[0;34m,\u001b[0m\u001b[0;34m\u001b[0m\u001b[0;34m\u001b[0m\u001b[0m\n\u001b[0m\u001b[1;32m     15\u001b[0m \u001b[0;31m#model.add(keras.Input(shape=train_padded_pt.shape)) # seq_length, input_size\u001b[0m\u001b[0;34m\u001b[0m\u001b[0;34m\u001b[0m\u001b[0;34m\u001b[0m\u001b[0m\n\u001b[1;32m     16\u001b[0m \u001b[0;31m#model.add(layers.SimpleRNN(15,activation='relu'))\u001b[0m\u001b[0;34m\u001b[0m\u001b[0;34m\u001b[0m\u001b[0;34m\u001b[0m\u001b[0m\n",
            "\u001b[0;31mNameError\u001b[0m: name 'num_unique_words_pt' is not defined"
          ]
        }
      ]
    },
    {
      "cell_type": "code",
      "metadata": {
        "colab": {
          "base_uri": "https://localhost:8080/"
        },
        "id": "DjHvoGqGZMhJ",
        "outputId": "fcb73cce-50c8-471a-f602-2a5e5e850b0a"
      },
      "source": [
        "train_padded_pt_1=train_padded_pt[8000000:8500000]\n",
        "train_labels_pt_1=train_labels_pt[8000000:8500000]\n",
        "train_padded_pt_1,train_labels_pt_1"
      ],
      "execution_count": null,
      "outputs": [
        {
          "output_type": "execute_result",
          "data": {
            "text/plain": [
              "(array([], shape=(0, 15), dtype=int32),\n",
              " <0x1588 sparse matrix of type '<class 'numpy.int64'>'\n",
              " \twith 0 stored elements in Compressed Sparse Row format>)"
            ]
          },
          "metadata": {
            "tags": []
          },
          "execution_count": 2
        }
      ]
    },
    {
      "cell_type": "code",
      "metadata": {
        "colab": {
          "base_uri": "https://localhost:8080/"
        },
        "id": "7OeGQ3pFvorI",
        "outputId": "b94b42cb-03fd-4bac-8777-6c48db7f02e5"
      },
      "source": [
        "count = 0\n",
        "while count < 5:\n",
        "  train_padded_pt_1=train_padded_pt[1400000+count*200000:1600000+count*200000]\n",
        "  train_labels_pt_1=train_labels_pt[1400000+count*200000:1600000+count*200000]\n",
        "  model.fit(train_padded_pt_1,train_labels_pt_1.toarray(),batch_size=100, epochs=4)\n",
        "  print(1600000+count*200000)\n",
        "  model.save_weights('/content/drive/MyDrive/Colab_Notebooks/Models/')\n",
        "  count += 1\n"
      ],
      "execution_count": null,
      "outputs": [
        {
          "output_type": "stream",
          "text": [
            "Epoch 1/4\n",
            "2000/2000 [==============================] - 174s 86ms/step - loss: 0.7664 - accuracy: 0.8399\n",
            "Epoch 2/4\n",
            "2000/2000 [==============================] - 166s 83ms/step - loss: 0.6547 - accuracy: 0.8584\n",
            "Epoch 3/4\n",
            "2000/2000 [==============================] - 168s 84ms/step - loss: 0.5863 - accuracy: 0.8708\n",
            "Epoch 4/4\n",
            "2000/2000 [==============================] - 167s 84ms/step - loss: 0.5298 - accuracy: 0.8817\n",
            "1600000\n",
            "Epoch 1/4\n",
            "2000/2000 [==============================] - 166s 83ms/step - loss: 0.7564 - accuracy: 0.8411\n",
            "Epoch 2/4\n",
            "2000/2000 [==============================] - 167s 83ms/step - loss: 0.6464 - accuracy: 0.8611\n",
            "Epoch 3/4\n",
            "2000/2000 [==============================] - 166s 83ms/step - loss: 0.5789 - accuracy: 0.8728\n",
            "Epoch 4/4\n",
            "2000/2000 [==============================] - 167s 83ms/step - loss: 0.5233 - accuracy: 0.8834\n",
            "1800000\n",
            "Epoch 1/4\n",
            "2000/2000 [==============================] - 164s 82ms/step - loss: 0.7565 - accuracy: 0.8402\n",
            "Epoch 2/4\n",
            "2000/2000 [==============================] - 163s 82ms/step - loss: 0.6459 - accuracy: 0.8593\n",
            "Epoch 3/4\n",
            "2000/2000 [==============================] - 162s 81ms/step - loss: 0.5780 - accuracy: 0.8715\n",
            "Epoch 4/4\n",
            "2000/2000 [==============================] - 167s 83ms/step - loss: 0.5238 - accuracy: 0.8821\n",
            "2000000\n",
            "Epoch 1/4\n",
            "2000/2000 [==============================] - 167s 84ms/step - loss: 0.7502 - accuracy: 0.8431\n",
            "Epoch 2/4\n",
            "2000/2000 [==============================] - 164s 82ms/step - loss: 0.6416 - accuracy: 0.8613\n",
            "Epoch 3/4\n",
            "2000/2000 [==============================] - 165s 83ms/step - loss: 0.5747 - accuracy: 0.8739\n",
            "Epoch 4/4\n",
            "2000/2000 [==============================] - 164s 82ms/step - loss: 0.5204 - accuracy: 0.8841\n",
            "2200000\n",
            "Epoch 1/4\n",
            "2000/2000 [==============================] - 167s 83ms/step - loss: 0.7444 - accuracy: 0.8438\n",
            "Epoch 2/4\n",
            "2000/2000 [==============================] - 167s 83ms/step - loss: 0.6364 - accuracy: 0.8619\n",
            "Epoch 3/4\n",
            "2000/2000 [==============================] - 170s 85ms/step - loss: 0.5695 - accuracy: 0.8736\n",
            "Epoch 4/4\n",
            "2000/2000 [==============================] - 169s 84ms/step - loss: 0.5151 - accuracy: 0.8839\n",
            "2400000\n"
          ],
          "name": "stdout"
        }
      ]
    },
    {
      "cell_type": "code",
      "metadata": {
        "colab": {
          "base_uri": "https://localhost:8080/"
        },
        "id": "Omot1cBnO2FH",
        "outputId": "390e81b6-cd28-4856-b281-f3a1e77079c8"
      },
      "source": [
        "count = 0\n",
        "while count < 5:\n",
        "  val_padded_pt_1=val_padded_pt[0+count*200000:200000+count*200000]\n",
        "  val_labels_pt_1=val_labels_pt[0+count*200000:200000+count*200000]\n",
        "  model.evaluate(val_padded_pt_1,val_labels_pt_1.toarray())\n",
        "  print(0+count*200000)\n",
        "  count += 1"
      ],
      "execution_count": null,
      "outputs": [
        {
          "output_type": "stream",
          "text": [
            "6250/6250 [==============================] - 40s 6ms/step - loss: 0.8273 - accuracy: 0.8337\n",
            "0\n",
            "6250/6250 [==============================] - 40s 6ms/step - loss: 0.8393 - accuracy: 0.8314\n",
            "200000\n",
            "6250/6250 [==============================] - 40s 6ms/step - loss: 0.8161 - accuracy: 0.8352\n",
            "400000\n",
            "6250/6250 [==============================] - 40s 6ms/step - loss: 0.8293 - accuracy: 0.8322\n",
            "600000\n"
          ],
          "name": "stdout"
        }
      ]
    },
    {
      "cell_type": "code",
      "metadata": {
        "id": "FaWB0Z6A77Hl",
        "colab": {
          "base_uri": "https://localhost:8080/",
          "height": 191
        },
        "outputId": "99655788-888d-4280-98a4-50f6abb065ca"
      },
      "source": [
        "loss = keras.losses.CategoricalCrossentropy(name='categorical_crossentropy')\n",
        "metrics = [\"accuracy\"]\n",
        "opt=('Adam')\n",
        "\n",
        "model_pt.compile(loss=loss,optimizer=opt, metrics=metrics)"
      ],
      "execution_count": null,
      "outputs": [
        {
          "output_type": "error",
          "ename": "NameError",
          "evalue": "ignored",
          "traceback": [
            "\u001b[0;31m---------------------------------------------------------------------------\u001b[0m",
            "\u001b[0;31mNameError\u001b[0m                                 Traceback (most recent call last)",
            "\u001b[0;32m<ipython-input-5-6c55b4738ddb>\u001b[0m in \u001b[0;36m<module>\u001b[0;34m()\u001b[0m\n\u001b[1;32m      3\u001b[0m \u001b[0mopt\u001b[0m\u001b[0;34m=\u001b[0m\u001b[0;34m(\u001b[0m\u001b[0;34m'Adam'\u001b[0m\u001b[0;34m)\u001b[0m\u001b[0;34m\u001b[0m\u001b[0;34m\u001b[0m\u001b[0m\n\u001b[1;32m      4\u001b[0m \u001b[0;34m\u001b[0m\u001b[0m\n\u001b[0;32m----> 5\u001b[0;31m \u001b[0mmodel_pt\u001b[0m\u001b[0;34m.\u001b[0m\u001b[0mcompile\u001b[0m\u001b[0;34m(\u001b[0m\u001b[0mloss\u001b[0m\u001b[0;34m=\u001b[0m\u001b[0mloss\u001b[0m\u001b[0;34m,\u001b[0m\u001b[0moptimizer\u001b[0m\u001b[0;34m=\u001b[0m\u001b[0mopt\u001b[0m\u001b[0;34m,\u001b[0m \u001b[0mmetrics\u001b[0m\u001b[0;34m=\u001b[0m\u001b[0mmetrics\u001b[0m\u001b[0;34m)\u001b[0m\u001b[0;34m\u001b[0m\u001b[0;34m\u001b[0m\u001b[0m\n\u001b[0m",
            "\u001b[0;31mNameError\u001b[0m: name 'model_pt' is not defined"
          ]
        }
      ]
    }
  ]
}